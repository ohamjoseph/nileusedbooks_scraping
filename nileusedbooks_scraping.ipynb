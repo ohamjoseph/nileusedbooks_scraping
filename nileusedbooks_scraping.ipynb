{
 "cells": [
  {
   "cell_type": "code",
   "execution_count": 1,
   "id": "fc9285ee",
   "metadata": {},
   "outputs": [],
   "source": [
    "from bs4 import BeautifulSoup as bs\n",
    "import requests\n",
    "import pandas as pd"
   ]
  },
  {
   "cell_type": "code",
   "execution_count": 2,
   "id": "0da80b32",
   "metadata": {},
   "outputs": [
    {
     "name": "stdout",
     "output_type": "stream",
     "text": [
      "[*] Ok\n"
     ]
    }
   ],
   "source": [
    "\n",
    "n = 4 # nombre de pages à scrapper\n",
    "links = [] # listes des liens de détails de chaque  livres\n",
    "\n",
    "for i in range(1,n+1):\n",
    "    \n",
    "    url = 'https://nileusedbooks.com/product-category/french/page/'+str(i) # url des différentes pages\n",
    "    response = requests.get(url)\n",
    "    html = response.content\n",
    "    soup = bs(html, \"html.parser\")\n",
    "    \n",
    "    # Récupération de tous les liens de détails pour la pages encours\n",
    "    divs = soup.find_all(\"div\", class_=\"item-img products-thumb\")\n",
    "    \n",
    "    # ajout des différents liens dans la liste links\n",
    "    for div in divs:\n",
    "        hrf = div.find_all(\"a\")[0]['href'].strip()\n",
    "        links.append(hrf)\n",
    "        \n",
    "print('[*] Ok')\n"
   ]
  },
  {
   "cell_type": "code",
   "execution_count": 3,
   "id": "26694b9e",
   "metadata": {},
   "outputs": [
    {
     "name": "stdout",
     "output_type": "stream",
     "text": [
      "[*] Ok\n"
     ]
    }
   ],
   "source": [
    "\n",
    "# Dictionnaire pour conténir les informations des libres\n",
    "donne = {}\n",
    "donne['Book Title'] = [] # liste des titres\n",
    "donne['ISBN Number'] = [] # liste des numéros ISBN\n",
    "donne['Price in Egyptian Pounds'] = [] # liste des prix \n",
    "donne['Price in USD'] = [] # prix en dollar\n",
    "\n",
    "\n",
    "for url in links: \n",
    "    \n",
    "    response = requests.get(url) # détail pour un livre donné\n",
    "    html = response.content\n",
    "    \n",
    "    soup = bs(html, \"html.parser\")\n",
    "    \n",
    "    prix = int(soup.find_all(\"ins\")[0].find('bdi').text.split()[0][:-3])\n",
    "    title = soup.find_all('h1', class_='product_title entry-title')[0].text\n",
    "    nbd = soup.find_all('div', class_='tab-content')[0].div.find_all('p')[-1].text\n",
    "    donne['Book Title'].append(title)\n",
    "    donne['ISBN Number'].append(nbd)\n",
    "    donne['Price in Egyptian Pounds'].append(prix)\n",
    "    \n",
    "    donne['Price in USD'].append(prix/19)\n",
    "    \n",
    "print('[*] Ok')\n"
   ]
  },
  {
   "cell_type": "code",
   "execution_count": 4,
   "id": "ce6f53b8",
   "metadata": {},
   "outputs": [
    {
     "data": {
      "text/html": [
       "<div>\n",
       "<style scoped>\n",
       "    .dataframe tbody tr th:only-of-type {\n",
       "        vertical-align: middle;\n",
       "    }\n",
       "\n",
       "    .dataframe tbody tr th {\n",
       "        vertical-align: top;\n",
       "    }\n",
       "\n",
       "    .dataframe thead th {\n",
       "        text-align: right;\n",
       "    }\n",
       "</style>\n",
       "<table border=\"1\" class=\"dataframe\">\n",
       "  <thead>\n",
       "    <tr style=\"text-align: right;\">\n",
       "      <th></th>\n",
       "      <th>Book Title</th>\n",
       "      <th>ISBN Number</th>\n",
       "      <th>Price in Egyptian Pounds</th>\n",
       "      <th>Price in USD</th>\n",
       "    </tr>\n",
       "  </thead>\n",
       "  <tbody>\n",
       "    <tr>\n",
       "      <th>54</th>\n",
       "      <td>Maths CM2</td>\n",
       "      <td>9782210746992</td>\n",
       "      <td>20</td>\n",
       "      <td>1.052632</td>\n",
       "    </tr>\n",
       "    <tr>\n",
       "      <th>1</th>\n",
       "      <td>“le moniteur de lecture Arthur ; CE1 ; livre d...</td>\n",
       "      <td>9782091509549</td>\n",
       "      <td>20</td>\n",
       "      <td>1.052632</td>\n",
       "    </tr>\n",
       "    <tr>\n",
       "      <th>73</th>\n",
       "      <td>Tempo: Guide Pedagogique 1</td>\n",
       "      <td>9782278044269</td>\n",
       "      <td>20</td>\n",
       "      <td>1.052632</td>\n",
       "    </tr>\n",
       "    <tr>\n",
       "      <th>79</th>\n",
       "      <td>Zigzag 1</td>\n",
       "      <td>9782090383867</td>\n",
       "      <td>20</td>\n",
       "      <td>1.052632</td>\n",
       "    </tr>\n",
       "    <tr>\n",
       "      <th>16</th>\n",
       "      <td>ADO 2 Cahier D’Exercices</td>\n",
       "      <td>9782090339758</td>\n",
       "      <td>30</td>\n",
       "      <td>1.578947</td>\n",
       "    </tr>\n",
       "    <tr>\n",
       "      <th>37</th>\n",
       "      <td>Echo A1 (Nouvelle Version</td>\n",
       "      <td>9782090385632</td>\n",
       "      <td>50</td>\n",
       "      <td>2.631579</td>\n",
       "    </tr>\n",
       "    <tr>\n",
       "      <th>61</th>\n",
       "      <td>Lire et écrire des contes</td>\n",
       "      <td>9782040281076</td>\n",
       "      <td>20</td>\n",
       "      <td>1.052632</td>\n",
       "    </tr>\n",
       "    <tr>\n",
       "      <th>38</th>\n",
       "      <td>Echo A2 (Nouvelle Version)</td>\n",
       "      <td>9782090385670</td>\n",
       "      <td>50</td>\n",
       "      <td>2.631579</td>\n",
       "    </tr>\n",
       "    <tr>\n",
       "      <th>4</th>\n",
       "      <td>ADO 2 Cahier D’Exercices</td>\n",
       "      <td>9782090339758</td>\n",
       "      <td>30</td>\n",
       "      <td>1.578947</td>\n",
       "    </tr>\n",
       "    <tr>\n",
       "      <th>58</th>\n",
       "      <td>Outils pour le francais cycle 3 CE2</td>\n",
       "      <td>9782210655010</td>\n",
       "      <td>30</td>\n",
       "      <td>1.578947</td>\n",
       "    </tr>\n",
       "  </tbody>\n",
       "</table>\n",
       "</div>"
      ],
      "text/plain": [
       "                                           Book Title    ISBN Number  \\\n",
       "54                                          Maths CM2  9782210746992   \n",
       "1   “le moniteur de lecture Arthur ; CE1 ; livre d...  9782091509549   \n",
       "73                         Tempo: Guide Pedagogique 1  9782278044269   \n",
       "79                                           Zigzag 1  9782090383867   \n",
       "16                           ADO 2 Cahier D’Exercices  9782090339758   \n",
       "37                          Echo A1 (Nouvelle Version  9782090385632   \n",
       "61                          Lire et écrire des contes  9782040281076   \n",
       "38                         Echo A2 (Nouvelle Version)  9782090385670   \n",
       "4                            ADO 2 Cahier D’Exercices  9782090339758   \n",
       "58                Outils pour le francais cycle 3 CE2  9782210655010   \n",
       "\n",
       "    Price in Egyptian Pounds  Price in USD  \n",
       "54                        20      1.052632  \n",
       "1                         20      1.052632  \n",
       "73                        20      1.052632  \n",
       "79                        20      1.052632  \n",
       "16                        30      1.578947  \n",
       "37                        50      2.631579  \n",
       "61                        20      1.052632  \n",
       "38                        50      2.631579  \n",
       "4                         30      1.578947  \n",
       "58                        30      1.578947  "
      ]
     },
     "execution_count": 4,
     "metadata": {},
     "output_type": "execute_result"
    }
   ],
   "source": [
    "donne_df = pd.DataFrame(donne)\n",
    "donne_df.sample(10)"
   ]
  },
  {
   "cell_type": "code",
   "execution_count": 5,
   "id": "17233458",
   "metadata": {},
   "outputs": [],
   "source": [
    "donne_df.to_csv('data/file.csv', index=False)"
   ]
  }
 ],
 "metadata": {
  "kernelspec": {
   "display_name": "Python 3",
   "language": "python",
   "name": "python3"
  },
  "language_info": {
   "codemirror_mode": {
    "name": "ipython",
    "version": 3
   },
   "file_extension": ".py",
   "mimetype": "text/x-python",
   "name": "python",
   "nbconvert_exporter": "python",
   "pygments_lexer": "ipython3",
   "version": "3.8.8"
  }
 },
 "nbformat": 4,
 "nbformat_minor": 5
}
