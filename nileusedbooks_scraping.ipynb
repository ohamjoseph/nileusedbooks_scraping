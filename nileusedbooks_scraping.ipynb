{
 "cells": [
  {
   "cell_type": "code",
   "execution_count": 1,
   "id": "fc9285ee",
   "metadata": {},
   "outputs": [],
   "source": [
    "from bs4 import BeautifulSoup as bs\n",
    "import requests\n",
    "import pandas as pd"
   ]
  },
  {
   "cell_type": "code",
   "execution_count": 15,
   "id": "0da80b32",
   "metadata": {},
   "outputs": [
    {
     "name": "stdout",
     "output_type": "stream",
     "text": [
      "[*] Ok\n"
     ]
    }
   ],
   "source": [
    "\n",
    "n = 4 # nombre de pages à scrapper\n",
    "links = [] # listes des liens de détails de chaque  livres\n",
    "\n",
    "for i in range(1,n+1):\n",
    "    \n",
    "    url = 'https://nileusedbooks.com/product-category/french/page/'+str(i) # url des différentes pages\n",
    "    response = requests.get(url)\n",
    "    html = response.content\n",
    "    soup = bs(html, \"html.parser\")\n",
    "    \n",
    "    # Récupération de tous les liens de détails pour la pages encours\n",
    "    divs = soup.find_all(\"div\", class_=\"item-img products-thumb\")\n",
    "    \n",
    "    # ajout des différents liens dans la liste links\n",
    "    for div in divs:\n",
    "        hrf = div.find_all(\"a\")[0]['href'].strip()\n",
    "        links.append(hrf)\n",
    "        \n",
    "print('[*] Ok')\n"
   ]
  },
  {
   "cell_type": "code",
   "execution_count": 16,
   "id": "26694b9e",
   "metadata": {},
   "outputs": [
    {
     "name": "stdout",
     "output_type": "stream",
     "text": [
      "[*] Ok\n"
     ]
    }
   ],
   "source": [
    "\n",
    "# Dictionnaire pour conténir les informations des libres\n",
    "donne = {}\n",
    "donne['Book Title'] = [] # liste des titres\n",
    "donne['ISBN Number'] = [] # liste des numéros ISBN\n",
    "donne['Price in Egyptian Pounds'] = [] # liste des prix \n",
    "donne['Price in USD'] = [] # prix en dollar\n",
    "\n",
    "\n",
    "for url in links: \n",
    "    \n",
    "    response = requests.get(url) # détail pour un livre donné\n",
    "    html = response.content\n",
    "    \n",
    "    soup = bs(html, \"html.parser\")\n",
    "    \n",
    "    prix = int(soup.find_all(\"ins\")[0].find('bdi').text.split()[0][:-3])\n",
    "    title = soup.find_all('h1', class_='product_title entry-title')[0].text\n",
    "    nbd = soup.find_all('div', class_='tab-content')[0].div.p.text\n",
    "    \n",
    "    donne['Book Title'].append(title)\n",
    "    donne['ISBN Number'].append(nbd)\n",
    "    donne['Price in Egyptian Pounds'].append(prix)\n",
    "    \n",
    "    donne['Price in USD'].append(prix/19)\n",
    "    \n",
    "    \n",
    "print('[*] Ok')\n"
   ]
  },
  {
   "cell_type": "code",
   "execution_count": 13,
   "id": "ce6f53b8",
   "metadata": {},
   "outputs": [
    {
     "data": {
      "text/html": [
       "<div>\n",
       "<style scoped>\n",
       "    .dataframe tbody tr th:only-of-type {\n",
       "        vertical-align: middle;\n",
       "    }\n",
       "\n",
       "    .dataframe tbody tr th {\n",
       "        vertical-align: top;\n",
       "    }\n",
       "\n",
       "    .dataframe thead th {\n",
       "        text-align: right;\n",
       "    }\n",
       "</style>\n",
       "<table border=\"1\" class=\"dataframe\">\n",
       "  <thead>\n",
       "    <tr style=\"text-align: right;\">\n",
       "      <th></th>\n",
       "      <th>Book Title</th>\n",
       "      <th>ISBN Number</th>\n",
       "      <th>Price in Egyptian Pounds</th>\n",
       "      <th>Price in USD</th>\n",
       "    </tr>\n",
       "  </thead>\n",
       "  <tbody>\n",
       "    <tr>\n",
       "      <th>0</th>\n",
       "      <td>“CM1 ; livre de l’élève</td>\n",
       "      <td>9782210655027</td>\n",
       "      <td>30</td>\n",
       "      <td>1.578947</td>\n",
       "    </tr>\n",
       "  </tbody>\n",
       "</table>\n",
       "</div>"
      ],
      "text/plain": [
       "                Book Title    ISBN Number  Price in Egyptian Pounds  \\\n",
       "0  “CM1 ; livre de l’élève  9782210655027                        30   \n",
       "\n",
       "   Price in USD  \n",
       "0      1.578947  "
      ]
     },
     "execution_count": 13,
     "metadata": {},
     "output_type": "execute_result"
    }
   ],
   "source": [
    "donne_df = pd.DataFrame(donne)\n",
    "donne_df"
   ]
  },
  {
   "cell_type": "code",
   "execution_count": 82,
   "id": "17233458",
   "metadata": {},
   "outputs": [],
   "source": [
    "donne_df.to_csv('data/file.csv', index=False)"
   ]
  }
 ],
 "metadata": {
  "kernelspec": {
   "display_name": "Python 3",
   "language": "python",
   "name": "python3"
  },
  "language_info": {
   "codemirror_mode": {
    "name": "ipython",
    "version": 3
   },
   "file_extension": ".py",
   "mimetype": "text/x-python",
   "name": "python",
   "nbconvert_exporter": "python",
   "pygments_lexer": "ipython3",
   "version": "3.8.8"
  }
 },
 "nbformat": 4,
 "nbformat_minor": 5
}
